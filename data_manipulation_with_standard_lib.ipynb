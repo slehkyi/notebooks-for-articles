{
 "cells": [
  {
   "cell_type": "code",
   "execution_count": 1,
   "metadata": {},
   "outputs": [],
   "source": [
    "PATH_TO_FILE = 'data/cart.csv'"
   ]
  },
  {
   "cell_type": "code",
   "execution_count": null,
   "metadata": {},
   "outputs": [],
   "source": [
    "def do_something_with():\n",
    "    pass\n",
    "\n",
    "l = ['Twitter', 'Instagram', 'Snapchat', 'TikTok']\n",
    "# Instead of\n",
    "i = 0\n",
    "for s in l:\n",
    "    do_something_with(i, s)\n",
    "    i += 1\n",
    "\n",
    "# Use\n",
    "for i, s in enumerate(l):\n",
    "    do_something_with(i, s)\n",
    "\n",
    "# less verbose and even slightly faster"
   ]
  },
  {
   "cell_type": "code",
   "execution_count": 8,
   "metadata": {},
   "outputs": [
    {
     "name": "stdout",
     "output_type": "stream",
     "text": [
      "1 ['t-shirt', 'black', 'top', '20', '1']\n",
      "2 ['pants', 'white', 'bottom', '50', '1']\n",
      "3 ['blazer', 'yellow', 'top', '100', '1']\n",
      "4 ['t-shirt', 'red', 'top', '15', '2']\n",
      "5 ['t-shirt', 'orange', 'top', '25', '1']\n",
      "6 ['sneakers', 'white', 'footwear', '100', '1']\n",
      "7 ['bracelet', 'green', 'accesories', '5', '3']\n"
     ]
    }
   ],
   "source": [
    "import csv\n",
    "\n",
    "with open(PATH_TO_FILE, 'r') as f:\n",
    "    rows = csv.reader(f, delimiter=',', quotechar='\"', escapechar=\"\\\\\")\n",
    "    headers = next(rows)\n",
    "    for line, row in enumerate(rows, start=1):\n",
    "        print(line, row)"
   ]
  },
  {
   "cell_type": "code",
   "execution_count": 6,
   "metadata": {},
   "outputs": [
    {
     "data": {
      "text/plain": [
       "55"
      ]
     },
     "execution_count": 6,
     "metadata": {},
     "output_type": "execute_result"
    }
   ],
   "source": [
    "shopping_cart = [\n",
    "    ('t-shirt', 15, 1),\n",
    "    ('pants', 50, 1),\n",
    "    ('t-shirt', 20, 2),\n",
    "    ('socks', 10, 1),\n",
    "    ('jacket', 100, 1),\n",
    "    ('socks', 5, 1)\n",
    "]\n",
    "\n",
    "from collections import Counter\n",
    "total_clothes = Counter()\n",
    "for item, price, quantity in shopping_cart:\n",
    "    total_clothes[item] += price*quantity\n",
    "\n",
    "total_clothes['t-shirt']\n",
    "# >>> 55\n",
    "\n",
    "# This won't work\n",
    "total_clothes = {}\n",
    "for item, price, quantity in shopping_cart:\n",
    "    total_clothes[item] += price*quantity\n",
    "\n",
    "total_clothes['t-shirt']\n",
    "# >>> KeyError: 't-shirt'\n",
    "\n",
    "# In order to make it work with dictionary:\n",
    "total_clothes = {}\n",
    "for item, price, quantity in shopping_cart:\n",
    "    if item in total_clothes.keys():\n",
    "        total_clothes[item] += price*quantity\n",
    "    else:\n",
    "        total_clothes[item] = price*quantity\n",
    "\n",
    "total_clothes['t-shirt']\n",
    "# >>> 55"
   ]
  },
  {
   "cell_type": "code",
   "execution_count": 20,
   "metadata": {},
   "outputs": [
    {
     "data": {
      "text/plain": [
       "Counter({'t-shirt': 55, 'pants': 50, 'socks': 15, 'jacket': 100})"
      ]
     },
     "execution_count": 20,
     "metadata": {},
     "output_type": "execute_result"
    }
   ],
   "source": [
    "shopping_cart = [\n",
    "    ('t-shirt', 15, 1),\n",
    "    ('pants', 50, 1),\n",
    "    ('t-shirt', 20, 2),\n",
    "    ('socks', 10, 1),\n",
    "    ('jacket', 100, 1),\n",
    "    ('socks', 5, 1)\n",
    "]\n",
    "\n",
    "from collections import Counter\n",
    "total_clothes = Counter()\n",
    "for item, price, quantity in shopping_cart:\n",
    "    total_clothes[item] += price*quantity\n",
    "\n",
    "total_clothes"
   ]
  },
  {
   "cell_type": "code",
   "execution_count": 4,
   "metadata": {},
   "outputs": [
    {
     "data": {
      "text/plain": [
       "[('the', 786),\n",
       " ('I', 622),\n",
       " ('and', 591),\n",
       " ('of', 446),\n",
       " ('to', 429),\n",
       " ('my', 402),\n",
       " ('you', 400),\n",
       " ('a', 353),\n",
       " ('in', 266),\n",
       " ('not', 265),\n",
       " ('that', 249),\n",
       " ('KING', 243),\n",
       " ('LEAR', 236),\n",
       " ('me', 227),\n",
       " ('your', 205),\n",
       " ('him', 197),\n",
       " ('have', 193),\n",
       " ('his', 193),\n",
       " ('is', 192),\n",
       " ('this', 185)]"
      ]
     },
     "execution_count": 4,
     "metadata": {},
     "output_type": "execute_result"
    }
   ],
   "source": [
    "from collections import Counter\n",
    "import string\n",
    "\n",
    "with open('data/kinglear.txt', 'r') as f:\n",
    "    count_words = Counter()\n",
    "    for line in f:\n",
    "        line = line.translate(str.maketrans('', '', string.punctuation))\n",
    "        words = line.split()\n",
    "        words_per_line = Counter(words)\n",
    "        count_words += words_per_line\n",
    "\n",
    "count_words.most_common(20)"
   ]
  },
  {
   "cell_type": "code",
   "execution_count": 11,
   "metadata": {},
   "outputs": [
    {
     "data": {
      "text/plain": [
       "[(15, 1), (20, 2)]"
      ]
     },
     "execution_count": 11,
     "metadata": {},
     "output_type": "execute_result"
    }
   ],
   "source": [
    "shopping_cart = [\n",
    "    ('t-shirt', 15, 1),\n",
    "    ('pants', 50, 1),\n",
    "    ('t-shirt', 20, 2),\n",
    "    ('socks', 10, 1),\n",
    "    ('jacket', 100, 1),\n",
    "    ('socks', 5, 1)\n",
    "]\n",
    "\n",
    "from collections import defaultdict\n",
    "total_clothes = defaultdict(list)\n",
    "for item, price, quantity in shopping_cart:\n",
    "    total_clothes[item].append((price, quantity))\n",
    "\n",
    "total_clothes['t-shirt']\n",
    "# >>> [(15, 1), (20, 2)]\n",
    "\n",
    "\n",
    "# total_clothes = {}\n",
    "# for item, price, quantity in shopping_cart:\n",
    "#     total_clothes[item].append((price, quantity))\n",
    "# >>> KeyError: 't-shirt'"
   ]
  },
  {
   "cell_type": "code",
   "execution_count": 15,
   "metadata": {},
   "outputs": [
    {
     "data": {
      "text/plain": [
       "defaultdict(int, {'t-shirt': 55, 'pants': 50, 'socks': 15, 'jacket': 100})"
      ]
     },
     "execution_count": 15,
     "metadata": {},
     "output_type": "execute_result"
    }
   ],
   "source": [
    "shopping_cart = [\n",
    "    ('t-shirt', 15, 1),\n",
    "    ('pants', 50, 1),\n",
    "    ('t-shirt', 20, 2),\n",
    "    ('socks', 10, 1),\n",
    "    ('jacket', 100, 1),\n",
    "    ('socks', 5, 1)\n",
    "]\n",
    "\n",
    "from collections import defaultdict\n",
    "total_clothes = defaultdict(int)\n",
    "for item, price, quantity in shopping_cart:\n",
    "    total_clothes[item] += price*quantity\n",
    "\n",
    "total_clothes"
   ]
  },
  {
   "cell_type": "code",
   "execution_count": 16,
   "metadata": {},
   "outputs": [
    {
     "data": {
      "text/plain": [
       "[('jacket', 100), ('t-shirt', 55), ('pants', 50)]"
      ]
     },
     "execution_count": 16,
     "metadata": {},
     "output_type": "execute_result"
    }
   ],
   "source": [
    "shopping_cart = [\n",
    "    ('t-shirt', 15, 1),\n",
    "    ('pants', 50, 1),\n",
    "    ('t-shirt', 20, 2),\n",
    "    ('socks', 10, 1),\n",
    "    ('jacket', 100, 1),\n",
    "    ('socks', 5, 1)\n",
    "]\n",
    "\n",
    "from collections import Counter\n",
    "total_clothes = Counter()\n",
    "for item, price, quantity in shopping_cart:\n",
    "    total_clothes[item] += price*quantity\n",
    "\n",
    "total_clothes.most_common(3)"
   ]
  },
  {
   "cell_type": "code",
   "execution_count": 18,
   "metadata": {},
   "outputs": [
    {
     "name": "stdout",
     "output_type": "stream",
     "text": [
      "Last game result: 1\n",
      "Previous 5 games results: victories - 1 draws - 0 defeats - 0\n",
      "Last game result: X\n",
      "Previous 5 games results: victories - 1 draws - 1 defeats - 0\n",
      "Last game result: 1\n",
      "Previous 5 games results: victories - 2 draws - 1 defeats - 0\n",
      "Last game result: 2\n",
      "Previous 5 games results: victories - 1 draws - 1 defeats - 1\n",
      "Last game result: X\n",
      "Previous 5 games results: victories - 1 draws - 1 defeats - 1\n",
      "Last game result: 1\n",
      "Previous 5 games results: victories - 1 draws - 1 defeats - 1\n",
      "Last game result: 1\n",
      "Previous 5 games results: victories - 2 draws - 1 defeats - 0\n",
      "Last game result: 1\n",
      "Previous 5 games results: victories - 3 draws - 0 defeats - 0\n",
      "Last game result: 1\n",
      "Previous 5 games results: victories - 3 draws - 0 defeats - 0\n",
      "Last game result: X\n",
      "Previous 5 games results: victories - 2 draws - 1 defeats - 0\n",
      "Last game result: 1\n",
      "Previous 5 games results: victories - 2 draws - 1 defeats - 0\n"
     ]
    }
   ],
   "source": [
    "from collections import deque, Counter\n",
    "import csv\n",
    "\n",
    "history = deque(maxlen=3)\n",
    "with open('data/results.csv', 'r') as f:\n",
    "    lines = csv.reader(f)\n",
    "    headers = next(lines)\n",
    "    for line in lines:\n",
    "        history.append(line)\n",
    "        print('Last game result:', line[-1])\n",
    "        last_results = Counter()\n",
    "        for result in history:\n",
    "            last_results[result[-1]] += 1\n",
    "\n",
    "        print('Previous 5 games results: victories -', last_results['1'], 'draws -', last_results['X'], 'defeats -', last_results['2'])\n"
   ]
  }
 ],
 "metadata": {
  "kernelspec": {
   "display_name": "Python 3.8.10 ('venv': venv)",
   "language": "python",
   "name": "python3"
  },
  "language_info": {
   "codemirror_mode": {
    "name": "ipython",
    "version": 3
   },
   "file_extension": ".py",
   "mimetype": "text/x-python",
   "name": "python",
   "nbconvert_exporter": "python",
   "pygments_lexer": "ipython3",
   "version": "3.8.10"
  },
  "orig_nbformat": 4,
  "vscode": {
   "interpreter": {
    "hash": "439571daf87331876600085d8386dc908c3f950474647915ed4fb6541957308b"
   }
  }
 },
 "nbformat": 4,
 "nbformat_minor": 2
}
